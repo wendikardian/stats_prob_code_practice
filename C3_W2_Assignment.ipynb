{
 "cells": [
  {
   "cell_type": "markdown",
   "id": "4caafec3",
   "metadata": {},
   "source": [
    "# Loaded dice \n",
    "\n",
    "Welcome to the second assignment in the course Probability and Statistics for Machine Learning and Data Science! In this quiz-like assignment you will test your intuition about the concepts covered in the lectures by taking the example with the dice to the next level. \n",
    "\n",
    "**This assignment can be completed with just pencil and paper, or even your intuition about probability, but in many questions using the skills you're developing as a programmer may help**. "
   ]
  },
  {
   "cell_type": "markdown",
   "id": "3bff9c20",
   "metadata": {},
   "source": [
    "## 1 - Introduction\n",
    "\n",
    "You will be presented with 11 questions regarding a several dice games. Sometimes the dice is loaded, sometimes it is not. You will have clear instructions for each exercise.\n",
    "\n",
    "### 1.1 How to go through the assignment\n",
    "\n",
    "In each exercise you there will be a question about throwing some dice that may or may not be loaded. You will have to answer questions about the results of each scenario, such as calculating the expected value of the dice throw or selecting the graph that best represents the distribution of outcomes. \n",
    "\n",
    "In any case, **you will be able to solve the exercise with one of the following methods:**\n",
    "\n",
    "- **By hand:** You may make your calculations by hand, using the theory you have developed in the lectures.\n",
    "- **Using Python:** You may use the empty block of code provided to make computations and simulations, to obtain the result.\n",
    "\n",
    "After each exercise you will save your solution by running a special code cell and adding your answer. The cells contain a single line of code in the format `utils.exercise_1()` which will launch the interface in which you can save your answer. **You will save your responses to each exercise as you go, but you won't submit all your responses for grading until you submit this assignment at the end.**\n",
    "\n",
    "Let's go over an example! Before, let's import the necessary libraries."
   ]
  },
  {
   "cell_type": "markdown",
   "id": "3d256624",
   "metadata": {},
   "source": [
    "## 2 - Importing the libraries"
   ]
  },
  {
   "cell_type": "code",
   "execution_count": 1,
   "id": "da0fcf2f",
   "metadata": {},
   "outputs": [],
   "source": [
    "import numpy as np\n",
    "import pandas as pd\n",
    "import seaborn as sns\n",
    "import matplotlib.pyplot as plt\n",
    "import utils"
   ]
  },
  {
   "cell_type": "markdown",
   "id": "e1637bc9",
   "metadata": {},
   "source": [
    "## 3 - A worked example on how to complete this assignment.\n",
    "\n",
    "Now let's go over one example question, so you understand how to go through the assignment.\n",
    "\n",
    "### 3.1 Example question\n",
    "\n",
    "Question: Given a 6-sided fair dice, you throw it two times and save the result. What is the probability that the sum of your two throws is greater than 5? (Give your result with 1 decimal place).\n",
    "\n",
    "After the question, you will see the following block of code."
   ]
  },
  {
   "cell_type": "code",
   "execution_count": 5,
   "id": "c789233e",
   "metadata": {},
   "outputs": [
    {
     "name": "stdout",
     "output_type": "stream",
     "text": [
      "The probability of the sum being greater than 5 is: 0.7\n"
     ]
    }
   ],
   "source": [
    "# You can use this cell for your calculations (not graded)\n",
    "# Define the number of sides on the dice\n",
    "sides = 6\n",
    "\n",
    "# Initialize a variable to count the favorable outcomes\n",
    "favorable_outcomes = 0\n",
    "\n",
    "# Loop through all possible outcomes of two dice throws\n",
    "for roll1 in range(1, sides+1):\n",
    "    for roll2 in range(1, sides+1):\n",
    "        # Check if the sum of the two throws is greater than 5\n",
    "        if roll1 + roll2 > 5:\n",
    "            # Increment the count of favorable outcomes\n",
    "            favorable_outcomes += 1\n",
    "\n",
    "# Calculate the total number of possible outcomes (6 sides * 6 sides)\n",
    "total_outcomes = sides * sides\n",
    "\n",
    "# Calculate the probability as favorable outcomes divided by total outcomes\n",
    "probability = favorable_outcomes / total_outcomes\n",
    "\n",
    "# Print the result with 1 decimal place\n",
    "print(f\"The probability of the sum being greater than 5 is: {probability:.1f}\")\n"
   ]
  },
  {
   "cell_type": "markdown",
   "id": "02528065",
   "metadata": {},
   "source": [
    "You may use it as you wish to solve the exercise. Or you can just ignore it and use pencil and pen to solve. It is up to you! **You will only save your final answer**. \n",
    "\n",
    "### 3.2 Solving using simulations in Python\n",
    "\n",
    "Let's solve this question in both ways. First, using Python. You may check the ungraded lab Dice Simulations that appears right before this assignment to help you simulate dice throws. Remember that, to get a good approximation, you need to simulate it a lot of times! You will see why this is true in the following weeks, but this is quite intuitive."
   ]
  },
  {
   "cell_type": "code",
   "execution_count": 10,
   "id": "309a3457",
   "metadata": {},
   "outputs": [
    {
     "name": "stdout",
     "output_type": "stream",
     "text": [
      "The probability by this simulation is: 0.719\n"
     ]
    }
   ],
   "source": [
    "# You can use this cell for your calculations (not graded)\n",
    "\n",
    "# This list represents each dice side\n",
    "dice = [1,2,3,4,5,6]\n",
    "\n",
    "# The idea is to randomly choose one element from this list three times and sum them. \n",
    "# Each time we choose, it is as if we had thrown a dice and the side is the chosen number.\n",
    "# This list will store the sum for each iteration. The idea is to repeat this experiment several times.\n",
    "sum_results = []\n",
    "\n",
    "number_iterations = 1000\n",
    "\n",
    "# Setting a random seed just for reproducibility\n",
    "np.random.seed(42)\n",
    "# It will play this game number_iteration times\n",
    "for i in range(number_iterations):\n",
    "    # Throw the first dice\n",
    "    throw_1 = np.random.choice(dice)\n",
    "    # Throw the second dice\n",
    "    throw_2 = np.random.choice(dice)\n",
    "    # Sum the result\n",
    "    sum_throw = throw_1 + throw_2\n",
    "    # Append to the sum_result list\n",
    "    sum_results.append(sum_throw)\n",
    "\n",
    "# After recording all the sums, the actual probability will be very close to the proportion among every sum greater than 10 in the sum_results list.\n",
    "greater_5_count = 0\n",
    "\n",
    "for x in sum_results:\n",
    "    if x > 5:\n",
    "        greater_5_count += 1\n",
    "\n",
    "probability = greater_5_count/len(sum_results)    \n",
    "print(f\"The probability by this simulation is: {probability}\")"
   ]
  },
  {
   "cell_type": "markdown",
   "id": "37524317",
   "metadata": {},
   "source": [
    "So the result you would get, rounding in to decimal place, would be 0.7! Let's solve it \"by hand\".\n",
    "\n",
    "### 3.3 Solving using the theory\n",
    "\n",
    "When throwing two dice, there are $36$ possible outcomes:\n",
    "\n",
    "$$(1,1), (1,2), \\ldots, (6,6)$$\n",
    "\n",
    "You must count how many of them lead to a sum greater than 5. They are:\n",
    "\n",
    "* If the first throw is $1$, there are $2$ possibilities for the second throw: 5 or 6.\n",
    "* If the first throw is $2$, there are $3$ possibilities for the second throw: 4, 5 or 6.\n",
    "* If the first throw is $3$, there are $4$ possibilities for the second throw: 3, 4, 5 or 6.\n",
    "* If the first throw is $4$, there are $5$ possibilities for the second throw: 2, 3, 4, 5 or 6.\n",
    "* If the first throw is $5$, there are $6$ possibilities for the second throw: 1, 2, 3, 4, 5 or 6.\n",
    "* If the first throw is $6$, there are $6$ possibilities for the second throw: 1, 2, 3, 4, 5 or 6.\n",
    "\n",
    "So, in total there are $2 + 3 + 4 + 5 + 6 + 6 = 26$, possibilities that sum greater than 5.\n",
    "\n",
    "The probability is then $\\frac{26}{36} \\approx 0.72$. Rounding it to 1 decimal place, the result is also 0.7!\n"
   ]
  },
  {
   "cell_type": "markdown",
   "id": "29b9f3ed",
   "metadata": {},
   "source": [
    "### 3.4 Saving your answer\n",
    "\n",
    "Once you get your answer in hands, it is time to save it. Run the next code below to see what it will look like. You just add your answer as requested and click on \"Save your answer!\""
   ]
  },
  {
   "cell_type": "code",
   "execution_count": 11,
   "id": "38539358",
   "metadata": {},
   "outputs": [
    {
     "data": {
      "application/vnd.jupyter.widget-view+json": {
       "model_id": "cf16279adbed4dbc90a0cd6648dbcbf1",
       "version_major": 2,
       "version_minor": 0
      },
      "text/plain": [
       "FloatText(value=0.0, description='Probability:')"
      ]
     },
     "metadata": {},
     "output_type": "display_data"
    },
    {
     "data": {
      "application/vnd.jupyter.widget-view+json": {
       "model_id": "e0c7529a37b945ad92c909831f416c0e",
       "version_major": 2,
       "version_minor": 0
      },
      "text/plain": [
       "Button(button_style='success', description='Save your answer!', style=ButtonStyle())"
      ]
     },
     "metadata": {},
     "output_type": "display_data"
    },
    {
     "data": {
      "application/vnd.jupyter.widget-view+json": {
       "model_id": "f5d542d83b9e4c9281a92b87f8dbc72a",
       "version_major": 2,
       "version_minor": 0
      },
      "text/plain": [
       "Output()"
      ]
     },
     "metadata": {},
     "output_type": "display_data"
    }
   ],
   "source": [
    "utils.exercise_example()"
   ]
  },
  {
   "cell_type": "markdown",
   "id": "73d4776c",
   "metadata": {},
   "source": [
    "And that's it! Once you save one question, you can go to the next one. If you want to change your solution, just run the code again and input the new solution, it will overwrite the previous one. At the end of the assignment, you will be able to check if you have forgotten to save any question. \n",
    "\n",
    "Once you finish the assignment, you may submit it as you usually would. Your most recently save answers to each exercise will then be graded."
   ]
  },
  {
   "cell_type": "markdown",
   "id": "4546a127",
   "metadata": {},
   "source": [
    "## 4 - Some concept clarifications 🎲🎲🎲\n",
    "\n",
    "During this assignment you will be presented with various scenarios that involve dice. Usually dice can have different numbers of sides and can be either fair or loaded.\n",
    "\n",
    "- A fair dice has equal probability of landing on every side.\n",
    "- A loaded dice does not have equal probability of landing on every side. Usually one (or more) sides have a greater probability of showing up than the rest.\n",
    "\n",
    "Alright, that's all your need to know to complete this assignment. Time to start rolling some dice!"
   ]
  },
  {
   "cell_type": "markdown",
   "id": "c8f09f02",
   "metadata": {},
   "source": [
    "## Exercise 1:\n",
    "\n"
   ]
  },
  {
   "cell_type": "markdown",
   "id": "3510c610",
   "metadata": {},
   "source": [
    "Given a 6-sided fair dice (all of the sides have equal probability of showing up), compute the mean and variance for the probability distribution that models said dice. The next figure shows you a visual represenatation of said distribution:\n",
    "\n",
    "<img src=\"./images/fair_dice.png\" style=\"height: 300px;\"/>\n",
    "\n",
    "**Submission considerations:**\n",
    "- Submit your answers as floating point numbers with three digits after the decimal point\n",
    "- Example: To submit the value of 1/4 enter 0.250"
   ]
  },
  {
   "cell_type": "markdown",
   "id": "5ee9b479",
   "metadata": {},
   "source": [
    "Hints: \n",
    "- You can use [np.random.choice](https://numpy.org/doc/stable/reference/random/generated/numpy.random.choice.html) to simulate a fair dice.\n",
    "- You can use [np.mean](https://numpy.org/doc/stable/reference/generated/numpy.mean.html) and [np.var](https://numpy.org/doc/stable/reference/generated/numpy.var.html) to compute the mean and variance of a numpy array."
   ]
  },
  {
   "cell_type": "code",
   "execution_count": 14,
   "id": "df437e8e",
   "metadata": {},
   "outputs": [
    {
     "name": "stdout",
     "output_type": "stream",
     "text": [
      "Mean (Expected Value): 3.4868\n",
      "Variance: 2.92982576\n"
     ]
    }
   ],
   "source": [
    "# You can use this cell for your calculations (not graded)\n",
    "# Simulate rolling a fair 6-sided dice 10000 times\n",
    "dice_rolls = np.random.choice(np.arange(1, 7), size=10000)\n",
    "\n",
    "# Compute the mean (expected value) using np.mean\n",
    "mean = np.mean(dice_rolls)\n",
    "\n",
    "# Compute the variance using np.var\n",
    "variance = np.var(dice_rolls)\n",
    "\n",
    "# Print the mean and variance\n",
    "print(f\"Mean (Expected Value): {mean}\")\n",
    "print(f\"Variance: {variance}\")"
   ]
  },
  {
   "cell_type": "code",
   "execution_count": 13,
   "id": "db9477e7",
   "metadata": {},
   "outputs": [
    {
     "data": {
      "application/vnd.jupyter.widget-view+json": {
       "model_id": "f2ee12168b784c2f84805e3b7929b1f0",
       "version_major": 2,
       "version_minor": 0
      },
      "text/plain": [
       "FloatText(value=0.0, description='Mean:')"
      ]
     },
     "metadata": {},
     "output_type": "display_data"
    },
    {
     "data": {
      "application/vnd.jupyter.widget-view+json": {
       "model_id": "c164715f25744563a67403b8ce0fee01",
       "version_major": 2,
       "version_minor": 0
      },
      "text/plain": [
       "FloatText(value=0.0, description='Variance:')"
      ]
     },
     "metadata": {},
     "output_type": "display_data"
    },
    {
     "data": {
      "application/vnd.jupyter.widget-view+json": {
       "model_id": "5aa344dc334c49a791e4cb1523a3636c",
       "version_major": 2,
       "version_minor": 0
      },
      "text/plain": [
       "Button(button_style='success', description='Save your answer!', style=ButtonStyle())"
      ]
     },
     "metadata": {},
     "output_type": "display_data"
    },
    {
     "data": {
      "application/vnd.jupyter.widget-view+json": {
       "model_id": "0fb13acc35954e139fef44ed0f18edc2",
       "version_major": 2,
       "version_minor": 0
      },
      "text/plain": [
       "Output()"
      ]
     },
     "metadata": {},
     "output_type": "display_data"
    }
   ],
   "source": [
    "# Run this cell to submit your answer\n",
    "utils.exercise_1()"
   ]
  },
  {
   "cell_type": "markdown",
   "id": "d43dcbbd",
   "metadata": {},
   "source": [
    "## Exercise 2:\n",
    "\n",
    "Now suppose you are throwing the dice (same dice as in the previous exercise) two times and recording the sum of each throw. Which of the following `probability mass functions` will be the one you should get?\n",
    "\n",
    "<table><tr>\n",
    "<td> <img src=\"./images/hist_sum_6_side.png\" style=\"height: 300px;\"/> </td>\n",
    "<td> <img src=\"./images/hist_sum_5_side.png\" style=\"height: 300px;\"/> </td>\n",
    "<td> <img src=\"./images/hist_sum_6_uf.png\" style=\"height: 300px;\"/> </td>\n",
    "</tr></table>\n"
   ]
  },
  {
   "cell_type": "markdown",
   "id": "605c58c0",
   "metadata": {},
   "source": [
    "Hints: \n",
    "- You can use numpy arrays to hold the results of many throws.\n",
    "- You can sum to numpy arrays by using the `+` operator like this: `sum = first_throw + second_throw`\n",
    "- To simulate multiple throws of a dice you can use list comprehension or a for loop"
   ]
  },
  {
   "cell_type": "code",
   "execution_count": 23,
   "id": "e9a8b2ed",
   "metadata": {},
   "outputs": [
    {
     "data": {
      "image/png": "[encoded data removed]",
      "text/plain": [
       "<Figure size 640x480 with 1 Axes>"
      ]
     },
     "metadata": {},
     "output_type": "display_data"
    }
   ],
   "source": [
    "# You can use this cell for your calculations (not graded)\n",
    "# Simulate multiple throws of the dice two times\n",
    "num_throws = 10000\n",
    "dice_rolls_1 = np.random.choice(np.arange(1, 7), size=num_throws)\n",
    "dice_rolls_2 = np.random.choice(np.arange(1, 7), size=num_throws)\n",
    "\n",
    "# Calculate the sum of each pair of throws\n",
    "sum_of_rolls = [dice_rolls_1[i] + dice_rolls_2[i] for i in range(num_throws)]\n",
    "\n",
    "# Calculate the PMF\n",
    "unique, counts = np.unique(sum_of_rolls, return_counts=True)\n",
    "pmf = counts / len(sum_of_rolls)\n",
    "\n",
    "# Plot the PMF\n",
    "plt.bar(unique, pmf, align='center', alpha=0.7)\n",
    "plt.xlabel('Sum of Two Throws')\n",
    "plt.ylabel('Probability')\n",
    "plt.title('Probability Mass Function of Sum of Two Dice Throws')\n",
    "plt.xticks(np.arange(2, 13))\n",
    "plt.grid(axis='y')\n",
    "plt.show()"
   ]
  },
  {
   "cell_type": "code",
   "execution_count": 24,
   "id": "d4d5dcf9",
   "metadata": {},
   "outputs": [
    {
     "data": {
      "application/vnd.jupyter.widget-view+json": {
       "model_id": "7dabbf59926f4e8996485535c9ed3db0",
       "version_major": 2,
       "version_minor": 0
      },
      "text/plain": [
       "ToggleButtons(description='Your answer:', options=('left', 'center', 'right'), value='left')"
      ]
     },
     "metadata": {},
     "output_type": "display_data"
    },
    {
     "data": {
      "application/vnd.jupyter.widget-view+json": {
       "model_id": "12eb77ef28d94d7ea9272a6d95909e25",
       "version_major": 2,
       "version_minor": 0
      },
      "text/plain": [
       "Button(button_style='success', description='Save your answer!', style=ButtonStyle())"
      ]
     },
     "metadata": {},
     "output_type": "display_data"
    },
    {
     "data": {
      "application/vnd.jupyter.widget-view+json": {
       "model_id": "6deb819705c048029e581bcb481419af",
       "version_major": 2,
       "version_minor": 0
      },
      "text/plain": [
       "Output()"
      ]
     },
     "metadata": {},
     "output_type": "display_data"
    }
   ],
   "source": [
    "# Run this cell to submit your answer\n",
    "utils.exercise_2()"
   ]
  },
  {
   "cell_type": "markdown",
   "id": "adfb889c",
   "metadata": {},
   "source": [
    "## Exercise 3:\n",
    "\n",
    "Given a fair 4-sided dice, you throw it two times and record the sum. The figure on the left shows the probabilities of the dice landing on each side and the right figure the histogram of the sum. Fill out the probabilities of each sum (notice that the distribution of the sum is symetrical so you only need to input 4 values in total):\n",
    "\n",
    "<img src=\"./images/4_side_hists.png\" style=\"height: 300px;\"/>\n",
    "\n",
    "**Submission considerations:**\n",
    "- Submit your answers as floating point numbers with three digits after the decimal point\n",
    "- Example: To submit the value of 1/4 enter 0.250"
   ]
  },
  {
   "cell_type": "code",
   "execution_count": 26,
   "id": "342ca685",
   "metadata": {},
   "outputs": [
    {
     "name": "stdout",
     "output_type": "stream",
     "text": [
      "P for sum = 2: 0.0616\n",
      "P for sum = 3: 0.1275\n",
      "P for sum = 4: 0.1865\n",
      "P for sum = 5: 0.2503\n",
      "P for sum = 6: 0.1843\n",
      "P for sum = 7: 0.1281\n",
      "P for sum = 8: 0.0617\n"
     ]
    },
    {
     "data": {
      "image/png": "[encoded data removed]",
      "text/plain": [
       "<Figure size 640x480 with 1 Axes>"
      ]
     },
     "metadata": {},
     "output_type": "display_data"
    }
   ],
   "source": [
    "# You can use this cell for your calculations (not graded)\n",
    "\n",
    "dice_rolls_1 = np.random.choice(np.arange(1, 5), size=10000)\n",
    "dice_rolls_2 = np.random.choice(np.arange(1, 5), size=10000)\n",
    "sum_of_rolls = dice_rolls_1 + dice_rolls_2\n",
    "\n",
    "# Plot the histogram of the sum\n",
    "plt.hist(sum_of_rolls, bins=np.arange(1.5, 9.5, 1), align='mid', density=True, alpha=0.7)\n",
    "plt.xlabel('Sum of Two Throws')\n",
    "plt.ylabel('Probability')\n",
    "plt.title('Histogram of Sum of Two 4-Sided Dice Throws')\n",
    "plt.xticks(np.arange(2, 9))\n",
    "plt.grid(axis='y')\n",
    "\n",
    "# Calculate and print the estimated probabilities for each sum\n",
    "unique, counts = np.unique(sum_of_rolls, return_counts=True)\n",
    "probabilities = counts / len(sum_of_rolls)\n",
    "for i in range(2, 9):\n",
    "    print(f\"P for sum = {i}: {probabilities[i-2]:.4f}\")\n",
    "\n",
    "plt.show()"
   ]
  },
  {
   "cell_type": "code",
   "execution_count": 25,
   "id": "e0a24beb",
   "metadata": {},
   "outputs": [
    {
     "data": {
      "application/vnd.jupyter.widget-view+json": {
       "model_id": "d699031be3bc4373bba0dcdc6adf85de",
       "version_major": 2,
       "version_minor": 0
      },
      "text/plain": [
       "FloatText(value=0.0, description='P for sum=2|8', style=DescriptionStyle(description_width='initial'))"
      ]
     },
     "metadata": {},
     "output_type": "display_data"
    },
    {
     "data": {
      "application/vnd.jupyter.widget-view+json": {
       "model_id": "4206383d3c594ea9bff3462f501be351",
       "version_major": 2,
       "version_minor": 0
      },
      "text/plain": [
       "FloatText(value=0.0, description='P for sum=3|7:', style=DescriptionStyle(description_width='initial'))"
      ]
     },
     "metadata": {},
     "output_type": "display_data"
    },
    {
     "data": {
      "application/vnd.jupyter.widget-view+json": {
       "model_id": "cbf8bf34dd5c484987625a4d9bd30f38",
       "version_major": 2,
       "version_minor": 0
      },
      "text/plain": [
       "FloatText(value=0.0, description='P for sum=4|6:', style=DescriptionStyle(description_width='initial'))"
      ]
     },
     "metadata": {},
     "output_type": "display_data"
    },
    {
     "data": {
      "application/vnd.jupyter.widget-view+json": {
       "model_id": "57eac46a997b487d95e034fb6e16e97f",
       "version_major": 2,
       "version_minor": 0
      },
      "text/plain": [
       "FloatText(value=0.0, description='P for sum=5:', style=DescriptionStyle(description_width='initial'))"
      ]
     },
     "metadata": {},
     "output_type": "display_data"
    },
    {
     "data": {
      "application/vnd.jupyter.widget-view+json": {
       "model_id": "dd803c88651843c0b2a5f1921020ca56",
       "version_major": 2,
       "version_minor": 0
      },
      "text/plain": [
       "Button(button_style='success', description='Save your answer!', style=ButtonStyle())"
      ]
     },
     "metadata": {},
     "output_type": "display_data"
    },
    {
     "data": {
      "application/vnd.jupyter.widget-view+json": {
       "model_id": "b4ba65d93d0843b1b8865a61fddaa3e9",
       "version_major": 2,
       "version_minor": 0
      },
      "text/plain": [
       "Output()"
      ]
     },
     "metadata": {},
     "output_type": "display_data"
    }
   ],
   "source": [
    "# Run this cell to submit your answer\n",
    "utils.exercise_3()"
   ]
  },
  {
   "cell_type": "markdown",
   "id": "108837bd",
   "metadata": {},
   "source": [
    "## Exercise 4:\n",
    "\n",
    "Using the same scenario as in the previous exercise. Compute the mean and variance of the sum of the two throws  and the covariance between the first and the second throw:\n",
    "\n",
    "<img src=\"./images/4_sided_hist_no_prob.png\" style=\"height: 300px;\"/>\n",
    "\n",
    "\n",
    "Hints:\n",
    "- You can use [np.cov](https://numpy.org/doc/stable/reference/generated/numpy.cov.html) to compute the covariance of two numpy arrays (this may not be needed for this particular exercise)."
   ]
  },
  {
   "cell_type": "code",
   "execution_count": 27,
   "id": "f4eadc3c",
   "metadata": {},
   "outputs": [
    {
     "name": "stdout",
     "output_type": "stream",
     "text": [
      "Mean of the sum: 5.0022\n",
      "Variance of the sum: 2.5067\n",
      "Covariance between the first and second throw: 0.0024\n"
     ]
    }
   ],
   "source": [
    "# You can use this cell for your calculations (not graded)\n",
    "\n",
    "num_throws = 100000\n",
    "dice_rolls_1 = np.random.choice(np.arange(1, 5), size=num_throws)\n",
    "dice_rolls_2 = np.random.choice(np.arange(1, 5), size=num_throws)\n",
    "sum_of_rolls = dice_rolls_1 + dice_rolls_2\n",
    "\n",
    "# Compute the mean and variance of the sum\n",
    "mean_sum = np.mean(sum_of_rolls)\n",
    "variance_sum = np.var(sum_of_rolls)\n",
    "\n",
    "# Compute the covariance between the first and second throw\n",
    "covariance = np.cov(dice_rolls_1, dice_rolls_2)[0, 1]\n",
    "\n",
    "# Print the results\n",
    "print(f\"Mean of the sum: {mean_sum:.4f}\")\n",
    "print(f\"Variance of the sum: {variance_sum:.4f}\")\n",
    "print(f\"Covariance between the first and second throw: {covariance:.4f}\")\n"
   ]
  },
  {
   "cell_type": "code",
   "execution_count": 28,
   "id": "4e662b9b",
   "metadata": {},
   "outputs": [
    {
     "data": {
      "application/vnd.jupyter.widget-view+json": {
       "model_id": "7cafb13dc86749eb85096f16c07efa05",
       "version_major": 2,
       "version_minor": 0
      },
      "text/plain": [
       "FloatText(value=0.0, description='Mean:')"
      ]
     },
     "metadata": {},
     "output_type": "display_data"
    },
    {
     "data": {
      "application/vnd.jupyter.widget-view+json": {
       "model_id": "904654667c3b40b7a9f9d00f37f64717",
       "version_major": 2,
       "version_minor": 0
      },
      "text/plain": [
       "FloatText(value=0.0, description='Variance:')"
      ]
     },
     "metadata": {},
     "output_type": "display_data"
    },
    {
     "data": {
      "application/vnd.jupyter.widget-view+json": {
       "model_id": "78edc9ef496144679f39ef4c43a146d5",
       "version_major": 2,
       "version_minor": 0
      },
      "text/plain": [
       "FloatText(value=0.0, description='Covariance:')"
      ]
     },
     "metadata": {},
     "output_type": "display_data"
    },
    {
     "data": {
      "application/vnd.jupyter.widget-view+json": {
       "model_id": "855352f57779463889809daf8cb3ff9b",
       "version_major": 2,
       "version_minor": 0
      },
      "text/plain": [
       "Button(button_style='success', description='Save your answer!', style=ButtonStyle())"
      ]
     },
     "metadata": {},
     "output_type": "display_data"
    },
    {
     "data": {
      "application/vnd.jupyter.widget-view+json": {
       "model_id": "151e003f63e940afa7b92192fe7184dd",
       "version_major": 2,
       "version_minor": 0
      },
      "text/plain": [
       "Output()"
      ]
     },
     "metadata": {},
     "output_type": "display_data"
    }
   ],
   "source": [
    "# Run this cell to submit your answer\n",
    "utils.exercise_4()"
   ]
  },
  {
   "cell_type": "markdown",
   "id": "714e099b",
   "metadata": {},
   "source": [
    "## Exercise 5:\n",
    "\n",
    "\n",
    "Now suppose you are have a loaded 4-sided dice (it is loaded so that it lands twice as often on side 2 compared to the other sides): \n",
    "\n",
    "\n",
    "<img src=\"./images/4_side_uf.png\" style=\"height: 300px;\"/>\n",
    "\n",
    "You are throwing it two times and recording the sum of each throw. Which of the following `probability mass functions` will be the one you should get?\n",
    "\n",
    "<table><tr>\n",
    "<td> <img src=\"./images/hist_sum_4_4l.png\" style=\"height: 300px;\"/> </td>\n",
    "<td> <img src=\"./images/hist_sum_4_3l.png\" style=\"height: 300px;\"/> </td>\n",
    "<td> <img src=\"./images/hist_sum_4_uf.png\" style=\"height: 300px;\"/> </td>\n",
    "</tr></table>"
   ]
  },
  {
   "cell_type": "markdown",
   "id": "ecb27c1b",
   "metadata": {},
   "source": [
    "Hints: \n",
    "- You can use the `p` parameter of [np.random.choice](https://numpy.org/doc/stable/reference/random/generated/numpy.random.choice.html) to simulate a loaded dice."
   ]
  },
  {
   "cell_type": "code",
   "execution_count": 36,
   "id": "a35573ec",
   "metadata": {},
   "outputs": [
    {
     "data": {
      "image/png": "[encoded data removed]",
      "text/plain": [
       "<Figure size 640x480 with 1 Axes>"
      ]
     },
     "metadata": {},
     "output_type": "display_data"
    }
   ],
   "source": [
    "# You can use this cell for your calculations (not graded)\n",
    "# Define the sides of the dice and their probabilities (loaded dice)\n",
    "sides = np.array([1, 2, 3, 4])\n",
    "probabilities = np.array([1/5, 2/5, 1/5, 1/5])  # Side 2 is twice as likely\n",
    "\n",
    "# Simulate throwing the loaded dice two times and recording the sum\n",
    "num_throws = 10000\n",
    "dice_rolls_1 = np.random.choice(sides, size=num_throws, p=probabilities)\n",
    "dice_rolls_2 = np.random.choice(sides, size=num_throws, p=probabilities)\n",
    "sum_of_rolls = dice_rolls_1 + dice_rolls_2\n",
    "\n",
    "# Calculate the PMF for the sum\n",
    "unique, counts = np.unique(sum_of_rolls, return_counts=True)\n",
    "pmf = counts / num_throws\n",
    "\n",
    "# Plot the PMF\n",
    "plt.bar(unique, pmf, align='center', alpha=0.7)\n",
    "plt.xlabel('Sum of Two Throws')\n",
    "plt.ylabel('Probability')\n",
    "plt.title('Probability Mass Function of Sum of Two Throws (Loaded 4-Sided Dice)')\n",
    "plt.xticks(np.arange(2, 9))\n",
    "plt.grid(axis='y')\n",
    "plt.show()\n"
   ]
  },
  {
   "cell_type": "code",
   "execution_count": 37,
   "id": "3104e647",
   "metadata": {},
   "outputs": [
    {
     "data": {
      "application/vnd.jupyter.widget-view+json": {
       "model_id": "7f9109e696774b9d8ca6bf9f544f269a",
       "version_major": 2,
       "version_minor": 0
      },
      "text/plain": [
       "ToggleButtons(description='Your answer:', options=('left', 'center', 'right'), value='left')"
      ]
     },
     "metadata": {},
     "output_type": "display_data"
    },
    {
     "data": {
      "application/vnd.jupyter.widget-view+json": {
       "model_id": "7fb4b681092447beb1754b4185410765",
       "version_major": 2,
       "version_minor": 0
      },
      "text/plain": [
       "Button(button_style='success', description='Save your answer!', style=ButtonStyle())"
      ]
     },
     "metadata": {},
     "output_type": "display_data"
    },
    {
     "data": {
      "application/vnd.jupyter.widget-view+json": {
       "model_id": "d0e1cbfd75584463a264f0a990ed4963",
       "version_major": 2,
       "version_minor": 0
      },
      "text/plain": [
       "Output()"
      ]
     },
     "metadata": {},
     "output_type": "display_data"
    }
   ],
   "source": [
    "# Run this cell to submit your answer\n",
    "utils.exercise_5()"
   ]
  },
  {
   "cell_type": "markdown",
   "id": "0d0f3429",
   "metadata": {},
   "source": [
    "## Exercise 6:\n",
    "\n",
    "You have a 6-sided dice that is loaded so that it lands twice as often on side 3 compared to the other sides:\n",
    "\n",
    "<img src=\"./images/loaded_6_side.png\" style=\"height: 300px;\"/>\n",
    "\n",
    "You record the sum of throwing it twice. What is the highest value (of the sum) that will yield a cumulative probability lower or equal to 0.5?\n",
    "\n",
    "<img src=\"./images/loaded_6_cdf.png\" style=\"height: 300px;\"/>\n",
    "\n",
    "Hints:\n",
    "- The probability of side 3 is equal to $\\frac{2}{7}$"
   ]
  },
  {
   "cell_type": "code",
   "execution_count": 39,
   "id": "10feaaa8",
   "metadata": {},
   "outputs": [
    {
     "name": "stdout",
     "output_type": "stream",
     "text": [
      "The highest sum with cumulative probability <= 0.5 is: 4\n"
     ]
    }
   ],
   "source": [
    "# You can use this cell for your calculations (not graded)\n",
    "\n",
    "sides = np.array([1, 2, 3, 4, 5, 6])\n",
    "probabilities = np.array([1/7, 1/7, 2/7, 1/7, 1/7, 1/7])  # Side 3 has a probability of 27\n",
    "\n",
    "# Calculate the cumulative probabilities for the sum\n",
    "cumulative_probs = np.cumsum(probabilities)\n",
    "\n",
    "# Find the highest sum value with cumulative probability <= 0.5\n",
    "highest_sum = np.argmax(cumulative_probs > 0.5) + 2  # Adding 2 because indices start from 0\n",
    "print(f\"The highest sum with cumulative probability <= 0.5 is: {highest_sum}\")"
   ]
  },
  {
   "cell_type": "code",
   "execution_count": 40,
   "id": "963e5763",
   "metadata": {},
   "outputs": [
    {
     "data": {
      "application/vnd.jupyter.widget-view+json": {
       "model_id": "9b77232e47454d9c82c3bb0bfaf74d87",
       "version_major": 2,
       "version_minor": 0
      },
      "text/plain": [
       "IntSlider(value=2, continuous_update=False, description='Sum:', max=12, min=2)"
      ]
     },
     "metadata": {},
     "output_type": "display_data"
    },
    {
     "data": {
      "application/vnd.jupyter.widget-view+json": {
       "model_id": "1cc51f7c143b42a79818efed43ed312c",
       "version_major": 2,
       "version_minor": 0
      },
      "text/plain": [
       "Button(button_style='success', description='Save your answer!', style=ButtonStyle())"
      ]
     },
     "metadata": {},
     "output_type": "display_data"
    },
    {
     "data": {
      "application/vnd.jupyter.widget-view+json": {
       "model_id": "a3252bf23bef40e98be85b5bb5e28f7f",
       "version_major": 2,
       "version_minor": 0
      },
      "text/plain": [
       "Output()"
      ]
     },
     "metadata": {},
     "output_type": "display_data"
    }
   ],
   "source": [
    "# Run this cell to submit your answer\n",
    "utils.exercise_6()"
   ]
  },
  {
   "cell_type": "markdown",
   "id": "f6684426",
   "metadata": {},
   "source": [
    "## Exercise 7:\n",
    "\n",
    "Given a 6-sided fair dice you try a new game. You only throw the dice a second time if the result of the first throw is **lower** or equal to 3. Which of the following `probability mass functions` will be the one you should get given this new constraint?\n",
    "\n",
    "<table><tr>\n",
    "<td> <img src=\"./images/6_sided_cond_green.png\" style=\"height: 250px;\"/> </td>\n",
    "<td> <img src=\"./images/6_sided_cond_blue.png\" style=\"height: 250px;\"/> </td>\n",
    "<td> <img src=\"./images/6_sided_cond_red.png\" style=\"height: 250px;\"/> </td>\n",
    "<td> <img src=\"./images/6_sided_cond_brown.png\" style=\"height: 250px;\"/> </td>\n",
    "\n",
    "</tr></table>\n",
    "\n",
    "Hints:\n",
    "- You can simulate the second throws as a numpy array and then make the values that met a certain criteria equal to 0 by using [np.where](https://numpy.org/doc/stable/reference/generated/numpy.where.html)"
   ]
  },
  {
   "cell_type": "code",
   "execution_count": 43,
   "id": "9e64d178",
   "metadata": {},
   "outputs": [
    {
     "data": {
      "image/png": "[encoded data removed]",
      "text/plain": [
       "<Figure size 640x480 with 1 Axes>"
      ]
     },
     "metadata": {},
     "output_type": "display_data"
    }
   ],
   "source": [
    "# You can use this cell for your calculations (not graded)\n",
    "\n",
    "# Simulate throwing the 6-sided fair dice\n",
    "num_throws = 10000\n",
    "first_throws = np.random.randint(1, 7, size=num_throws)\n",
    "\n",
    "# Filter the first throws that are lower or equal to 3 and simulate the second throws\n",
    "second_throws = np.where(first_throws <= 3, np.random.randint(1, 7, size=num_throws), 0)\n",
    "\n",
    "# Calculate the sum of each pair of throws\n",
    "sum_of_throws = first_throws + second_throws\n",
    "\n",
    "# Calculate the PMF for the sum\n",
    "unique, counts = np.unique(sum_of_throws, return_counts=True)\n",
    "pmf = counts / num_throws\n",
    "\n",
    "# Plot the PMF\n",
    "plt.bar(unique, pmf, align='center', alpha=0.7)\n",
    "plt.xlabel('Sum of Two Throws')\n",
    "plt.ylabel('Probability')\n",
    "plt.title('Probability Mass Function of Sum of Two Throws with Constraint')\n",
    "plt.xticks(np.arange(2, 13))\n",
    "plt.grid(axis='y')\n",
    "plt.show()"
   ]
  },
  {
   "cell_type": "code",
   "execution_count": 42,
   "id": "82a4db40",
   "metadata": {},
   "outputs": [
    {
     "data": {
      "application/vnd.jupyter.widget-view+json": {
       "model_id": "62c9cf96529e4b3cbf447e368e626f05",
       "version_major": 2,
       "version_minor": 0
      },
      "text/plain": [
       "ToggleButtons(description='Your answer:', options=('left-most', 'left-center', 'right-center', 'right-most'), …"
      ]
     },
     "metadata": {},
     "output_type": "display_data"
    },
    {
     "data": {
      "application/vnd.jupyter.widget-view+json": {
       "model_id": "1937ba2cb84e4924a17b7aec6b29dbb7",
       "version_major": 2,
       "version_minor": 0
      },
      "text/plain": [
       "Button(button_style='success', description='Save your answer!', style=ButtonStyle())"
      ]
     },
     "metadata": {},
     "output_type": "display_data"
    },
    {
     "data": {
      "application/vnd.jupyter.widget-view+json": {
       "model_id": "b0c993f31674456280b203401d8183c9",
       "version_major": 2,
       "version_minor": 0
      },
      "text/plain": [
       "Output()"
      ]
     },
     "metadata": {},
     "output_type": "display_data"
    }
   ],
   "source": [
    "# Run this cell to submit your answer\n",
    "utils.exercise_7()"
   ]
  },
  {
   "cell_type": "markdown",
   "id": "ba973eaf",
   "metadata": {},
   "source": [
    "## Exercise 8:\n",
    "\n",
    "Given the same scenario as in the previous exercise but with the twist that you only throw the dice a second time if the result of the first throw is **greater** or equal to 3. Which of the following `probability mass functions` will be the one you should get given this new constraint?\n",
    "\n",
    "<table><tr>\n",
    "<td> <img src=\"./images/6_sided_cond_green2.png\" style=\"height: 250px;\"/> </td>\n",
    "<td> <img src=\"./images/6_sided_cond_blue2.png\" style=\"height: 250px;\"/> </td>\n",
    "<td> <img src=\"./images/6_sided_cond_red2.png\" style=\"height: 250px;\"/> </td>\n",
    "<td> <img src=\"./images/6_sided_cond_brown2.png\" style=\"height: 250px;\"/> </td>\n",
    "\n",
    "</tr></table>\n"
   ]
  },
  {
   "cell_type": "code",
   "execution_count": 44,
   "id": "4d25300f",
   "metadata": {},
   "outputs": [
    {
     "data": {
      "image/png": "[encoded data removed]",
      "text/plain": [
       "<Figure size 640x480 with 1 Axes>"
      ]
     },
     "metadata": {},
     "output_type": "display_data"
    }
   ],
   "source": [
    "# You can use this cell for your calculations (not graded)\n",
    "# Simulate throwing the 6-sided fair dice\n",
    "num_throws = 10000\n",
    "first_throws = np.random.randint(1, 7, size=num_throws)\n",
    "\n",
    "# Filter the first throws that are greater or equal to 3 and simulate the second throws\n",
    "second_throws = np.where(first_throws >= 3, np.random.randint(1, 7, size=num_throws), 0)\n",
    "\n",
    "# Calculate the sum of each pair of throws\n",
    "sum_of_throws = first_throws + second_throws\n",
    "\n",
    "# Calculate the PMF for the sum\n",
    "unique, counts = np.unique(sum_of_throws, return_counts=True)\n",
    "pmf = counts / num_throws\n",
    "\n",
    "# Plot the PMF\n",
    "plt.bar(unique, pmf, align='center', alpha=0.7)\n",
    "plt.xlabel('Sum of Two Throws')\n",
    "plt.ylabel('Probability')\n",
    "plt.title('Probability Mass Function of Sum of Two Throws with Constraint')\n",
    "plt.xticks(np.arange(2, 13))\n",
    "plt.grid(axis='y')\n",
    "plt.show()\n",
    "\n"
   ]
  },
  {
   "cell_type": "code",
   "execution_count": 45,
   "id": "33bb9fd2",
   "metadata": {},
   "outputs": [
    {
     "data": {
      "application/vnd.jupyter.widget-view+json": {
       "model_id": "fa2311fd88f04842968d75e29902750d",
       "version_major": 2,
       "version_minor": 0
      },
      "text/plain": [
       "ToggleButtons(description='Your answer:', options=('left-most', 'left-center', 'right-center', 'right-most'), …"
      ]
     },
     "metadata": {},
     "output_type": "display_data"
    },
    {
     "data": {
      "application/vnd.jupyter.widget-view+json": {
       "model_id": "5317dbd8e7684d06a0703315b9e703e0",
       "version_major": 2,
       "version_minor": 0
      },
      "text/plain": [
       "Button(button_style='success', description='Save your answer!', style=ButtonStyle())"
      ]
     },
     "metadata": {},
     "output_type": "display_data"
    },
    {
     "data": {
      "application/vnd.jupyter.widget-view+json": {
       "model_id": "300e75e61a574c019c7d13ac7026a63f",
       "version_major": 2,
       "version_minor": 0
      },
      "text/plain": [
       "Output()"
      ]
     },
     "metadata": {},
     "output_type": "display_data"
    }
   ],
   "source": [
    "# Run this cell to submit your answer\n",
    "utils.exercise_8()"
   ]
  },
  {
   "cell_type": "markdown",
   "id": "017e9b22",
   "metadata": {},
   "source": [
    "## Exercise 9:\n",
    "\n",
    "Given a n-sided fair dice. You throw it twice and record the sum. How does increasing the number of sides `n` of the dice impact the mean and variance of the sum and the covariance of the joint distribution?"
   ]
  },
  {
   "cell_type": "code",
   "execution_count": null,
   "id": "645a9b74",
   "metadata": {},
   "outputs": [],
   "source": [
    "# You can use this cell for your calculations (not graded)\n",
    "\n"
   ]
  },
  {
   "cell_type": "code",
   "execution_count": 46,
   "id": "907412da",
   "metadata": {},
   "outputs": [
    {
     "name": "stdout",
     "output_type": "stream",
     "text": [
      "As the number of sides in the die increases:\n"
     ]
    },
    {
     "data": {
      "application/vnd.jupyter.widget-view+json": {
       "model_id": "6113efc536fa4c4c9a98d17134899071",
       "version_major": 2,
       "version_minor": 0
      },
      "text/plain": [
       "ToggleButtons(description='The mean of the sum:', options=('stays the same', 'increases', 'decreases'), value=…"
      ]
     },
     "metadata": {},
     "output_type": "display_data"
    },
    {
     "data": {
      "application/vnd.jupyter.widget-view+json": {
       "model_id": "2eab4b73fee44e96acea45699b4d28e9",
       "version_major": 2,
       "version_minor": 0
      },
      "text/plain": [
       "ToggleButtons(description='The variance of the sum:', options=('stays the same', 'increases', 'decreases'), va…"
      ]
     },
     "metadata": {},
     "output_type": "display_data"
    },
    {
     "data": {
      "application/vnd.jupyter.widget-view+json": {
       "model_id": "1db974d0799e44ba90bdcdac81bd777e",
       "version_major": 2,
       "version_minor": 0
      },
      "text/plain": [
       "ToggleButtons(description='The covariance of the joint distribution:', options=('stays the same', 'increases',…"
      ]
     },
     "metadata": {},
     "output_type": "display_data"
    },
    {
     "data": {
      "application/vnd.jupyter.widget-view+json": {
       "model_id": "b9a95ff8e02f4127926686872c4c8d75",
       "version_major": 2,
       "version_minor": 0
      },
      "text/plain": [
       "Button(button_style='success', description='Save your answer!', style=ButtonStyle())"
      ]
     },
     "metadata": {},
     "output_type": "display_data"
    },
    {
     "data": {
      "application/vnd.jupyter.widget-view+json": {
       "model_id": "521b54eaf19d4c588dc79466dcf6ce83",
       "version_major": 2,
       "version_minor": 0
      },
      "text/plain": [
       "Output()"
      ]
     },
     "metadata": {},
     "output_type": "display_data"
    }
   ],
   "source": [
    "# Run this cell to submit your answer\n",
    "utils.exercise_9()"
   ]
  },
  {
   "cell_type": "markdown",
   "id": "fcf9b3ac",
   "metadata": {},
   "source": [
    "## Exercise 10:\n",
    "\n",
    "Given a 6-sided loaded dice. You throw it twice and record the sum. Which of the following statemets is true?"
   ]
  },
  {
   "cell_type": "code",
   "execution_count": null,
   "id": "008c5858",
   "metadata": {},
   "outputs": [],
   "source": [
    "# You can use this cell for your calculations (not graded)\n",
    "\n"
   ]
  },
  {
   "cell_type": "code",
   "execution_count": 47,
   "id": "99373567",
   "metadata": {},
   "outputs": [
    {
     "data": {
      "application/vnd.jupyter.widget-view+json": {
       "model_id": "f1e8cf12e59c4e61a835b62f6c334e99",
       "version_major": 2,
       "version_minor": 0
      },
      "text/plain": [
       "RadioButtons(layout=Layout(width='max-content'), options=('the mean and variance is the same regardless of whi…"
      ]
     },
     "metadata": {},
     "output_type": "display_data"
    },
    {
     "data": {
      "application/vnd.jupyter.widget-view+json": {
       "model_id": "26c2a8349e9d407382938c48554f7391",
       "version_major": 2,
       "version_minor": 0
      },
      "text/plain": [
       "Button(button_style='success', description='Save your answer!', style=ButtonStyle())"
      ]
     },
     "metadata": {},
     "output_type": "display_data"
    },
    {
     "data": {
      "application/vnd.jupyter.widget-view+json": {
       "model_id": "6f6a6117c3604512b03ac4ce7a7b1320",
       "version_major": 2,
       "version_minor": 0
      },
      "text/plain": [
       "Output()"
      ]
     },
     "metadata": {},
     "output_type": "display_data"
    }
   ],
   "source": [
    "# Run this cell to submit your answer\n",
    "utils.exercise_10()"
   ]
  },
  {
   "cell_type": "markdown",
   "id": "f8a1a8a3",
   "metadata": {},
   "source": [
    "## Exercise 11:\n",
    "\n",
    "Given a n-sided dice (could be fair or not). You throw it twice and record the sum (there is no dependance between the throws). If you are only given the histogram of the sums can you use it to know which are the probabilities of the dice landing on each side?\n",
    "\n",
    "In other words, if you are provided with only the histogram of the sums like this one:\n",
    "<td> <img src=\"./images/hist_sum_6_side.png\" style=\"height: 300px;\"/> </td>\n",
    "\n",
    "Could you use it to know the probabilities of the dice landing on each side? Which will be equivalent to finding this histogram:\n",
    "<img src=\"./images/fair_dice.png\" style=\"height: 300px;\"/>\n"
   ]
  },
  {
   "cell_type": "code",
   "execution_count": null,
   "id": "b42149cf",
   "metadata": {},
   "outputs": [],
   "source": [
    "# You can use this cell for your calculations (not graded)\n",
    "\n"
   ]
  },
  {
   "cell_type": "code",
   "execution_count": 48,
   "id": "33a2e4d9",
   "metadata": {},
   "outputs": [
    {
     "data": {
      "application/vnd.jupyter.widget-view+json": {
       "model_id": "7c483ca0bb7b4da7b883b3f28ef86b54",
       "version_major": 2,
       "version_minor": 0
      },
      "text/plain": [
       "RadioButtons(layout=Layout(width='max-content'), options=('yes, but only if one of the sides is loaded', 'no, …"
      ]
     },
     "metadata": {},
     "output_type": "display_data"
    },
    {
     "data": {
      "application/vnd.jupyter.widget-view+json": {
       "model_id": "00de1c3152904258bbf671d0248cf159",
       "version_major": 2,
       "version_minor": 0
      },
      "text/plain": [
       "Button(button_style='success', description='Save your answer!', style=ButtonStyle())"
      ]
     },
     "metadata": {},
     "output_type": "display_data"
    },
    {
     "data": {
      "application/vnd.jupyter.widget-view+json": {
       "model_id": "9ccc5c0b6cc049a7969459208bfd03fc",
       "version_major": 2,
       "version_minor": 0
      },
      "text/plain": [
       "Output()"
      ]
     },
     "metadata": {},
     "output_type": "display_data"
    }
   ],
   "source": [
    "# Run this cell to submit your answer\n",
    "utils.exercise_11()"
   ]
  },
  {
   "cell_type": "markdown",
   "id": "1635ca7c",
   "metadata": {},
   "source": [
    "## Before Submitting Your Assignment\n",
    "\n",
    "Run the next cell to check that you have answered all of the exercises"
   ]
  },
  {
   "cell_type": "code",
   "execution_count": 49,
   "id": "c6822278",
   "metadata": {},
   "outputs": [
    {
     "name": "stdout",
     "output_type": "stream",
     "text": [
      "All answers saved, you can submit the assignment for grading!\n"
     ]
    }
   ],
   "source": [
    "utils.check_submissions()"
   ]
  },
  {
   "cell_type": "markdown",
   "id": "5286008f",
   "metadata": {},
   "source": [
    "**Congratulations on finishing this assignment!**\n",
    "\n",
    "During this assignment you tested your knowledge on probability distributions, descriptive statistics and visual interpretation of these concepts. You had the choice to compute everything analytically or create simulations to assist you get the right answer. You probably also realized that some exercises could be answered without any computations just by looking at certain hidden queues that the visualizations revealed.\n",
    "\n",
    "**Keep up the good work!**\n"
   ]
  }
 ],
 "metadata": {
  "kernelspec": {
   "display_name": "Python 3 (ipykernel)",
   "language": "python",
   "name": "python3"
  },
  "language_info": {
   "codemirror_mode": {
    "name": "ipython",
    "version": 3
   },
   "file_extension": ".py",
   "mimetype": "text/x-python",
   "name": "python",
   "nbconvert_exporter": "python",
   "pygments_lexer": "ipython3",
   "version": "3.10.11"
  }
 },
 "nbformat": 4,
 "nbformat_minor": 5
}
